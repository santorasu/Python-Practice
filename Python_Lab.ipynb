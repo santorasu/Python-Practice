{
  "nbformat": 4,
  "nbformat_minor": 0,
  "metadata": {
    "colab": {
      "provenance": [],
      "include_colab_link": true
    },
    "kernelspec": {
      "name": "python3",
      "display_name": "Python 3"
    },
    "language_info": {
      "name": "python"
    }
  },
  "cells": [
    {
      "cell_type": "markdown",
      "metadata": {
        "id": "view-in-github",
        "colab_type": "text"
      },
      "source": [
        "<a href=\"https://colab.research.google.com/github/santorasu/Python-Practice/blob/master/Python_Lab.ipynb\" target=\"_parent\"><img src=\"https://colab.research.google.com/assets/colab-badge.svg\" alt=\"Open In Colab\"/></a>"
      ]
    },
    {
      "cell_type": "code",
      "execution_count": null,
      "metadata": {
        "colab": {
          "base_uri": "https://localhost:8080/"
        },
        "id": "JnvUOGVZwFK7",
        "outputId": "022e232f-d732-403d-b2a9-a619d0253996"
      },
      "outputs": [
        {
          "output_type": "stream",
          "name": "stdout",
          "text": [
            "Hello World\n",
            "Santo Rasu\n",
            "10\n"
          ]
        }
      ],
      "source": [
        "print(\"Hello World\")\n",
        "name=\"Santo Rasu\"\n",
        "print(name[0:])\n",
        "print(len(name))"
      ]
    },
    {
      "cell_type": "code",
      "source": [],
      "metadata": {
        "id": "vtk1jt-hzExW"
      },
      "execution_count": null,
      "outputs": []
    },
    {
      "cell_type": "code",
      "source": [
        "a=\"6\"\n",
        "b=\"4\"\n",
        "print(int(a)+int(b))"
      ],
      "metadata": {
        "colab": {
          "base_uri": "https://localhost:8080/"
        },
        "id": "-B6t9NbWwTdz",
        "outputId": "a8013b09-1478-498c-b578-1d4c9e94bd59"
      },
      "execution_count": null,
      "outputs": [
        {
          "output_type": "stream",
          "name": "stdout",
          "text": [
            "10\n"
          ]
        }
      ]
    },
    {
      "cell_type": "code",
      "source": [
        "a=\"6\"\n",
        "b=\"4\"\n",
        "print(a+b)"
      ],
      "metadata": {
        "colab": {
          "base_uri": "https://localhost:8080/"
        },
        "id": "K_ATA9N8w9ID",
        "outputId": "bf29b586-45a4-430f-bf14-215c73ab18cd"
      },
      "execution_count": null,
      "outputs": [
        {
          "output_type": "stream",
          "name": "stdout",
          "text": [
            "64\n"
          ]
        }
      ]
    },
    {
      "cell_type": "code",
      "source": [
        "print(5+10)"
      ],
      "metadata": {
        "colab": {
          "base_uri": "https://localhost:8080/"
        },
        "id": "cSa7RvwRxIDm",
        "outputId": "87640691-a09a-4552-c42b-9684a3b3c399"
      },
      "execution_count": null,
      "outputs": [
        {
          "output_type": "stream",
          "name": "stdout",
          "text": [
            "15\n"
          ]
        }
      ]
    },
    {
      "cell_type": "code",
      "source": [
        "#This is single line comment\n",
        "print(\"This is single line comment\")"
      ],
      "metadata": {
        "colab": {
          "base_uri": "https://localhost:8080/"
        },
        "id": "1LL-x7Vcybim",
        "outputId": "9b836208-711a-4dc3-c5c4-e51c61c7a421"
      },
      "execution_count": null,
      "outputs": [
        {
          "output_type": "stream",
          "name": "stdout",
          "text": [
            "This is single line comment\n"
          ]
        }
      ]
    },
    {
      "cell_type": "code",
      "source": [
        "'''print(\"Hello World\")\n",
        "# name=\"Santo Rasu\"\n",
        "'''\n",
        "#  print(name[0:])\n",
        "#  print(len(name))\n",
        "\n",
        "\n",
        "'''\n",
        "This is multiple line comment\n",
        "print(\"Hello\")\n",
        "'''"
      ],
      "metadata": {
        "colab": {
          "base_uri": "https://localhost:8080/",
          "height": 35
        },
        "id": "CXmZtddPzKjJ",
        "outputId": "6a70cbc4-f97f-4864-8c45-70b52bcee1b9"
      },
      "execution_count": null,
      "outputs": [
        {
          "output_type": "execute_result",
          "data": {
            "text/plain": [
              "'\\nThis is multiple line comment\\nprint(\"Hello\")\\n'"
            ],
            "application/vnd.google.colaboratory.intrinsic+json": {
              "type": "string"
            }
          },
          "metadata": {},
          "execution_count": 10
        }
      ]
    },
    {
      "cell_type": "code",
      "source": [
        "x=str(3)\n",
        "y=int(3)\n",
        "z=float(3)\n",
        "print(x)\n",
        "print(y)\n",
        "print(z)\n",
        "print(type(x))\n",
        "print(type(y))\n",
        "print(type(z))"
      ],
      "metadata": {
        "colab": {
          "base_uri": "https://localhost:8080/"
        },
        "id": "az_Oy88F05EO",
        "outputId": "2450a0e6-736a-43e9-bd8e-0d27b92583f8"
      },
      "execution_count": null,
      "outputs": [
        {
          "output_type": "stream",
          "name": "stdout",
          "text": [
            "3\n",
            "3\n",
            "3.0\n",
            "<class 'str'>\n",
            "<class 'int'>\n",
            "<class 'float'>\n"
          ]
        }
      ]
    },
    {
      "cell_type": "code",
      "source": [
        "# x=input(\"Enter your name: \")\n",
        "# print(f\"My name is {x}\")\n",
        "\n",
        "a=input()\n",
        "b= input()\n",
        "c = a + b\n",
        "print(c)\n",
        "print(type(c))\n",
        "print(type(int(c)))"
      ],
      "metadata": {
        "colab": {
          "base_uri": "https://localhost:8080/"
        },
        "id": "3rkbbH9R2Tsi",
        "outputId": "4ed654c5-5cdb-44c2-9350-d7bda59d1073"
      },
      "execution_count": null,
      "outputs": [
        {
          "output_type": "stream",
          "name": "stdout",
          "text": [
            "2\n",
            "3\n",
            "23\n",
            "<class 'str'>\n",
            "<class 'int'>\n"
          ]
        }
      ]
    },
    {
      "cell_type": "code",
      "source": [
        "a=\"Rasu\"\n",
        "b=\"4\"\n",
        "print(a+b)"
      ],
      "metadata": {
        "colab": {
          "base_uri": "https://localhost:8080/"
        },
        "id": "3x-y3brh5EKW",
        "outputId": "42412846-5e46-48dd-fa83-5614ccef81bf"
      },
      "execution_count": null,
      "outputs": [
        {
          "output_type": "stream",
          "name": "stdout",
          "text": [
            "Rasu4\n"
          ]
        }
      ]
    },
    {
      "cell_type": "code",
      "source": [
        "x,y,z = \"A\", \"B\", \"C\"\n",
        "print(x)\n",
        "print(y)\n",
        "print(z)"
      ],
      "metadata": {
        "colab": {
          "base_uri": "https://localhost:8080/"
        },
        "id": "aSTWFxHd6hWw",
        "outputId": "cb0e79d4-e661-4d6b-a5a8-d10ed678ee2c"
      },
      "execution_count": null,
      "outputs": [
        {
          "output_type": "stream",
          "name": "stdout",
          "text": [
            "A\n",
            "B\n",
            "C\n"
          ]
        }
      ]
    },
    {
      "cell_type": "code",
      "source": [
        "x=\"This\"\n",
        "y=\"is\"\n",
        "z=\"Santo\"\n",
        "print(x , y ,z)"
      ],
      "metadata": {
        "colab": {
          "base_uri": "https://localhost:8080/"
        },
        "id": "nchSHZhZ7E0x",
        "outputId": "4b75c79a-45bd-4962-c54e-925d4ee2d92a"
      },
      "execution_count": null,
      "outputs": [
        {
          "output_type": "stream",
          "name": "stdout",
          "text": [
            "This is Santo\n"
          ]
        }
      ]
    },
    {
      "cell_type": "code",
      "source": [
        "name=\"Santo Rasu\"\n",
        "print(name[0:])\n",
        "print(name[0:5])\n",
        "print(len(name))\n",
        "print(name.upper())\n",
        "print(name[::-1])"
      ],
      "metadata": {
        "colab": {
          "base_uri": "https://localhost:8080/"
        },
        "id": "2iVbjREl7kyK",
        "outputId": "b60f657b-9939-43ef-8cd8-82b3b29c13ae"
      },
      "execution_count": null,
      "outputs": [
        {
          "output_type": "stream",
          "name": "stdout",
          "text": [
            "Santo Rasu\n",
            "Santo\n",
            "10\n",
            "SANTO RASU\n",
            "usaR otnaS\n"
          ]
        }
      ]
    }
  ]
}
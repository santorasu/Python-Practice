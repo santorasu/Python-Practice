{
  "nbformat": 4,
  "nbformat_minor": 0,
  "metadata": {
    "colab": {
      "provenance": [],
      "authorship_tag": "ABX9TyNS9G2GPYbkDAlhWmokk8XJ",
      "include_colab_link": true
    },
    "kernelspec": {
      "name": "python3",
      "display_name": "Python 3"
    },
    "language_info": {
      "name": "python"
    }
  },
  "cells": [
    {
      "cell_type": "markdown",
      "metadata": {
        "id": "view-in-github",
        "colab_type": "text"
      },
      "source": [
        "<a href=\"https://colab.research.google.com/github/santorasu/Python-Practice/blob/master/Lab_4.ipynb\" target=\"_parent\"><img src=\"https://colab.research.google.com/assets/colab-badge.svg\" alt=\"Open In Colab\"/></a>"
      ]
    },
    {
      "cell_type": "code",
      "execution_count": null,
      "metadata": {
        "colab": {
          "base_uri": "https://localhost:8080/"
        },
        "id": "u2tnAg1019Vl",
        "outputId": "e2563cdc-542f-463c-e358-287762362b0c"
      },
      "outputs": [
        {
          "output_type": "stream",
          "name": "stdout",
          "text": [
            "Ami bari jabo\n"
          ]
        }
      ],
      "source": [
        "print(\"Ami bari jabo\")"
      ]
    },
    {
      "cell_type": "code",
      "source": [
        "for i in range(11):\n",
        "  for k in range(i):\n",
        "    print(\" \")\n",
        "  \n",
        "  for j in range(-1:11):\n",
        "    print(\"*\")"
      ],
      "metadata": {
        "colab": {
          "base_uri": "https://localhost:8080/",
          "height": 130
        },
        "id": "hdL6Jlcn2Tz3",
        "outputId": "14f4cf67-e598-4702-8df4-7949bed7b2aa"
      },
      "execution_count": null,
      "outputs": [
        {
          "output_type": "error",
          "ename": "SyntaxError",
          "evalue": "ignored",
          "traceback": [
            "\u001b[0;36m  File \u001b[0;32m\"<ipython-input-2-a35d84332510>\"\u001b[0;36m, line \u001b[0;32m5\u001b[0m\n\u001b[0;31m    for j in range(-1:11):\u001b[0m\n\u001b[0m                     ^\u001b[0m\n\u001b[0;31mSyntaxError\u001b[0m\u001b[0;31m:\u001b[0m invalid syntax\n"
          ]
        }
      ]
    },
    {
      "cell_type": "code",
      "source": [
        "list = [ 'apple', 'banana', 'cherry', 'Orange', 'banana',4,454,645,434,45]\n",
        "print(list)\n",
        "print(type(list))\n",
        "print(len(list))\n",
        "\n"
      ],
      "metadata": {
        "colab": {
          "base_uri": "https://localhost:8080/"
        },
        "id": "EQnab8Bu3bqn",
        "outputId": "060b37ce-9cde-4c03-b2f4-5db2939cc514"
      },
      "execution_count": null,
      "outputs": [
        {
          "output_type": "stream",
          "name": "stdout",
          "text": [
            "['apple', 'banana', 'cherry', 'Orange', 'banana', 4, 454, 645, 434, 45]\n",
            "<class 'list'>\n",
            "10\n"
          ]
        }
      ]
    },
    {
      "cell_type": "code",
      "source": [
        "list = [ 'apple', 'banana', 'cherry', 'Orange', 'banana',4,454,645,434,45]\n",
        "print(list[1])\n",
        "print(list[2:5])\n",
        "print(list[-4:-1])\n",
        "print(list.reverse())"
      ],
      "metadata": {
        "colab": {
          "base_uri": "https://localhost:8080/"
        },
        "id": "B1GNc0Ur54pY",
        "outputId": "2cefbe98-b5d8-4eb4-f11c-8f7203395316"
      },
      "execution_count": null,
      "outputs": [
        {
          "output_type": "stream",
          "name": "stdout",
          "text": [
            "banana\n",
            "['cherry', 'Orange', 'banana']\n",
            "[454, 645, 434]\n",
            "None\n"
          ]
        }
      ]
    },
    {
      "cell_type": "code",
      "source": [
        "list = [ 'apple', 'banana', 'cherry', 'Orange', 'banana',4,454,645,434,45]\n",
        "print(list.index(434))"
      ],
      "metadata": {
        "colab": {
          "base_uri": "https://localhost:8080/"
        },
        "id": "fHdg9qki7U5u",
        "outputId": "3039a956-fb2a-4171-9d41-2f35d07651f4"
      },
      "execution_count": null,
      "outputs": [
        {
          "output_type": "stream",
          "name": "stdout",
          "text": [
            "8\n"
          ]
        }
      ]
    },
    {
      "cell_type": "code",
      "source": [
        "list = [1,2,3,4,5,6,7,8,9]\n",
        "print(list.index(3))\n",
        "print(list.index(4,2,6))\n",
        "print(list.index(8,2,6))"
      ],
      "metadata": {
        "colab": {
          "base_uri": "https://localhost:8080/",
          "height": 235
        },
        "id": "PzO9D6bF8g9W",
        "outputId": "a903bcc9-38d1-4fec-f04a-0c1d9b72aea6"
      },
      "execution_count": null,
      "outputs": [
        {
          "output_type": "stream",
          "name": "stdout",
          "text": [
            "2\n",
            "3\n"
          ]
        },
        {
          "output_type": "error",
          "ename": "ValueError",
          "evalue": "ignored",
          "traceback": [
            "\u001b[0;31m---------------------------------------------------------------------------\u001b[0m",
            "\u001b[0;31mValueError\u001b[0m                                Traceback (most recent call last)",
            "\u001b[0;32m<ipython-input-27-7f1c17b81311>\u001b[0m in \u001b[0;36m<module>\u001b[0;34m\u001b[0m\n\u001b[1;32m      2\u001b[0m \u001b[0mprint\u001b[0m\u001b[0;34m(\u001b[0m\u001b[0mlist\u001b[0m\u001b[0;34m.\u001b[0m\u001b[0mindex\u001b[0m\u001b[0;34m(\u001b[0m\u001b[0;36m3\u001b[0m\u001b[0;34m)\u001b[0m\u001b[0;34m)\u001b[0m\u001b[0;34m\u001b[0m\u001b[0;34m\u001b[0m\u001b[0m\n\u001b[1;32m      3\u001b[0m \u001b[0mprint\u001b[0m\u001b[0;34m(\u001b[0m\u001b[0mlist\u001b[0m\u001b[0;34m.\u001b[0m\u001b[0mindex\u001b[0m\u001b[0;34m(\u001b[0m\u001b[0;36m4\u001b[0m\u001b[0;34m,\u001b[0m\u001b[0;36m2\u001b[0m\u001b[0;34m,\u001b[0m\u001b[0;36m6\u001b[0m\u001b[0;34m)\u001b[0m\u001b[0;34m)\u001b[0m\u001b[0;34m\u001b[0m\u001b[0;34m\u001b[0m\u001b[0m\n\u001b[0;32m----> 4\u001b[0;31m \u001b[0mprint\u001b[0m\u001b[0;34m(\u001b[0m\u001b[0mlist\u001b[0m\u001b[0;34m.\u001b[0m\u001b[0mindex\u001b[0m\u001b[0;34m(\u001b[0m\u001b[0;36m8\u001b[0m\u001b[0;34m,\u001b[0m\u001b[0;36m2\u001b[0m\u001b[0;34m,\u001b[0m\u001b[0;36m6\u001b[0m\u001b[0;34m)\u001b[0m\u001b[0;34m)\u001b[0m\u001b[0;34m\u001b[0m\u001b[0;34m\u001b[0m\u001b[0m\n\u001b[0m",
            "\u001b[0;31mValueError\u001b[0m: 8 is not in list"
          ]
        }
      ]
    },
    {
      "cell_type": "code",
      "source": [
        "list = [ 'apple', 'banana','cherry']\n",
        "print(\"apple\" not in list)\n",
        "print(\"lemon\" not in list)"
      ],
      "metadata": {
        "colab": {
          "base_uri": "https://localhost:8080/"
        },
        "id": "yV-nGRL79-9u",
        "outputId": "e733ea8d-df2f-493a-f517-5351fc4a1d27"
      },
      "execution_count": null,
      "outputs": [
        {
          "output_type": "stream",
          "name": "stdout",
          "text": [
            "False\n",
            "True\n"
          ]
        }
      ]
    },
    {
      "cell_type": "code",
      "source": [
        "list = [ 'apple', 'banana','cherry']\n",
        "if \"apple\" in list: #Find element in list\n",
        "  print(\"Yes\")"
      ],
      "metadata": {
        "colab": {
          "base_uri": "https://localhost:8080/"
        },
        "id": "epE7DUvT-W7-",
        "outputId": "22ef1285-c6b4-4e49-ac97-932216f5a59b"
      },
      "execution_count": null,
      "outputs": [
        {
          "output_type": "stream",
          "name": "stdout",
          "text": [
            "Yes\n"
          ]
        }
      ]
    },
    {
      "cell_type": "code",
      "source": [
        "list = [ 'apple', 'banana','cherry']\n",
        "list[1]= \"NAI Kichu\" #Replace element\n",
        "print(list)"
      ],
      "metadata": {
        "colab": {
          "base_uri": "https://localhost:8080/"
        },
        "id": "rV9djhT1-wf2",
        "outputId": "973c6367-a03c-4a6c-d17d-b9521ce923ab"
      },
      "execution_count": null,
      "outputs": [
        {
          "output_type": "stream",
          "name": "stdout",
          "text": [
            "['apple', 'NAI Kichu', 'cherry']\n"
          ]
        }
      ]
    },
    {
      "cell_type": "code",
      "source": [
        "list = [ 'apple', 'banana','cherry','orange','kiwi','mango']\n",
        "list[1:4] = ['Kola','komola']\n",
        "print(list) #replace multiple element in list"
      ],
      "metadata": {
        "colab": {
          "base_uri": "https://localhost:8080/"
        },
        "id": "Gc5c_uzi_IeX",
        "outputId": "412e1df4-57f6-4d83-dd87-ab43368d0b4d"
      },
      "execution_count": null,
      "outputs": [
        {
          "output_type": "stream",
          "name": "stdout",
          "text": [
            "['apple', 'Kola', 'komola', 'kiwi', 'mango']\n"
          ]
        }
      ]
    },
    {
      "cell_type": "code",
      "source": [
        "list = ['Sakil','Sakib','Sohel','Santo','Rasu']\n",
        "print(list.index('Sohel'))\n",
        "list[2] = \"Sadik\"\n",
        "print(list)"
      ],
      "metadata": {
        "colab": {
          "base_uri": "https://localhost:8080/"
        },
        "id": "pyZSe_gt_zg2",
        "outputId": "f4dbdac7-4fbf-4310-b519-a0c17d14a5f5"
      },
      "execution_count": null,
      "outputs": [
        {
          "output_type": "stream",
          "name": "stdout",
          "text": [
            "2\n",
            "['Sakil', 'Sakib', 'Sadik', 'Santo', 'Rasu']\n"
          ]
        }
      ]
    },
    {
      "cell_type": "code",
      "source": [
        "list = ['Sakil','Sakib','Sohel','Santo','Rasu']\n",
        "list.append(\"Cat\")\n",
        "print(list)"
      ],
      "metadata": {
        "colab": {
          "base_uri": "https://localhost:8080/"
        },
        "id": "EjWwYQzwBCMm",
        "outputId": "fdb03627-8757-4ea1-b468-ce8542b35b64"
      },
      "execution_count": null,
      "outputs": [
        {
          "output_type": "stream",
          "name": "stdout",
          "text": [
            "['Sakil', 'Sakib', 'Sohel', 'Santo', 'Rasu', 'Cat']\n"
          ]
        }
      ]
    },
    {
      "cell_type": "code",
      "source": [
        "list = ['Sakil','Sakib','Sohel','Santo','Rasu']\n",
        "list.insert(1,\"Cat\")\n",
        "print(list)"
      ],
      "metadata": {
        "colab": {
          "base_uri": "https://localhost:8080/"
        },
        "id": "L5dD-76aCFYu",
        "outputId": "e81070bf-058f-4d14-d592-e505dc14a8f5"
      },
      "execution_count": null,
      "outputs": [
        {
          "output_type": "stream",
          "name": "stdout",
          "text": [
            "['Sakil', 'Cat', 'Sakib', 'Sohel', 'Santo', 'Rasu']\n"
          ]
        }
      ]
    },
    {
      "cell_type": "code",
      "source": [
        "list = ['Sakil','Sakib','Sohel','Santo','Rasu']\n",
        "list.remove(\"Sohel\") #remove\n",
        "print(list)"
      ],
      "metadata": {
        "colab": {
          "base_uri": "https://localhost:8080/"
        },
        "id": "p5_HbcpqCxZt",
        "outputId": "17433003-30d6-4191-95e1-c450a09d02b2"
      },
      "execution_count": null,
      "outputs": [
        {
          "output_type": "stream",
          "name": "stdout",
          "text": [
            "['Sakil', 'Sakib', 'Santo', 'Rasu']\n"
          ]
        }
      ]
    },
    {
      "cell_type": "code",
      "source": [
        "list = ['Sakil','Sakib','Sohel','Santo','Rasu']\n",
        "list1 = [ 'apple', 'banana','cherry','orange','kiwi','mango']\n",
        "list.extend(list1)\n",
        "print(list)"
      ],
      "metadata": {
        "colab": {
          "base_uri": "https://localhost:8080/"
        },
        "id": "YkydPv4nBsTe",
        "outputId": "7daa7682-5b5f-49a0-a3c6-51950ce121d1"
      },
      "execution_count": null,
      "outputs": [
        {
          "output_type": "stream",
          "name": "stdout",
          "text": [
            "['Sakil', 'Sakib', 'Sohel', 'Santo', 'Rasu', 'apple', 'banana', 'cherry', 'orange', 'kiwi', 'mango']\n"
          ]
        }
      ]
    },
    {
      "cell_type": "code",
      "source": [
        "list = ['Sakil','Sakib','Sohel','Santo','Rasu']\n",
        "list.pop()\n",
        "print(list)"
      ],
      "metadata": {
        "colab": {
          "base_uri": "https://localhost:8080/"
        },
        "id": "0fy9awXmDB6m",
        "outputId": "edc6d079-ab9c-49b5-9621-5d3b7bc577d7"
      },
      "execution_count": null,
      "outputs": [
        {
          "output_type": "stream",
          "name": "stdout",
          "text": [
            "['Sakil', 'Sakib', 'Sohel', 'Santo']\n"
          ]
        }
      ]
    },
    {
      "cell_type": "code",
      "source": [
        "list = ['Sakil','Sakib','Sohel','Santo','Rasu']\n",
        "list.pop(2) #Pop with index number\n",
        "print(list)"
      ],
      "metadata": {
        "colab": {
          "base_uri": "https://localhost:8080/"
        },
        "id": "IeDeaqNDDLWW",
        "outputId": "3f8359eb-0710-4205-abc3-cfff01169225"
      },
      "execution_count": null,
      "outputs": [
        {
          "output_type": "stream",
          "name": "stdout",
          "text": [
            "['Sakil', 'Sakib', 'Santo', 'Rasu']\n"
          ]
        }
      ]
    },
    {
      "cell_type": "code",
      "source": [
        "list = ['Sakil','Sakib','Sohel','Santo','Rasu']\n",
        "for i in list:\n",
        "  print(i)"
      ],
      "metadata": {
        "colab": {
          "base_uri": "https://localhost:8080/"
        },
        "id": "8PRQGH5ID2ue",
        "outputId": "f57e8467-9cdb-493d-8fa4-d8863efe2192"
      },
      "execution_count": null,
      "outputs": [
        {
          "output_type": "stream",
          "name": "stdout",
          "text": [
            "Sakil\n",
            "Sakib\n",
            "Sohel\n",
            "Santo\n",
            "Rasu\n"
          ]
        }
      ]
    },
    {
      "cell_type": "code",
      "source": [
        "list = ['Sakil','Sakib','Sohel','Santo','Rasu']\n",
        "list.clear() #Clear all element\n",
        "print(list)"
      ],
      "metadata": {
        "colab": {
          "base_uri": "https://localhost:8080/"
        },
        "id": "B6CQidbwEsv1",
        "outputId": "955d50bf-1d1b-4da0-baa2-177d097801f7"
      },
      "execution_count": null,
      "outputs": [
        {
          "output_type": "stream",
          "name": "stdout",
          "text": [
            "[]\n"
          ]
        }
      ]
    },
    {
      "cell_type": "code",
      "source": [
        "list = ['Sakil','Sakib','Sohel','Santo','Rasu']\n",
        "list.sort()\n",
        "print(list)"
      ],
      "metadata": {
        "colab": {
          "base_uri": "https://localhost:8080/"
        },
        "id": "72Mu1n--E5il",
        "outputId": "590efcba-126d-49aa-86e2-91377a9e8df8"
      },
      "execution_count": null,
      "outputs": [
        {
          "output_type": "stream",
          "name": "stdout",
          "text": [
            "['Rasu', 'Sakib', 'Sakil', 'Santo', 'Sohel']\n"
          ]
        }
      ]
    },
    {
      "cell_type": "code",
      "source": [
        "list = ['Sakil','Sakib','Sohel','Santo','Rasu']\n",
        "list1 = sorted(list)\n",
        "print(list)\n",
        "print(list1)"
      ],
      "metadata": {
        "colab": {
          "base_uri": "https://localhost:8080/"
        },
        "id": "P8mD23ZVGhOn",
        "outputId": "f4ac196e-d8b3-4552-b76e-70250c4eff81"
      },
      "execution_count": null,
      "outputs": [
        {
          "output_type": "stream",
          "name": "stdout",
          "text": [
            "['Sakil', 'Sakib', 'Sohel', 'Santo', 'Rasu']\n",
            "['Rasu', 'Sakib', 'Sakil', 'Santo', 'Sohel']\n"
          ]
        }
      ]
    },
    {
      "cell_type": "code",
      "source": [
        "list = ['Sakil','Sakib','Sohel','Santo','Rasu']\n",
        "list.reverse()\n",
        "print(list)"
      ],
      "metadata": {
        "colab": {
          "base_uri": "https://localhost:8080/"
        },
        "id": "jS4FgTlNG4Nf",
        "outputId": "6fe554fb-42b4-452e-a361-1b893759c60b"
      },
      "execution_count": null,
      "outputs": [
        {
          "output_type": "stream",
          "name": "stdout",
          "text": [
            "['Rasu', 'Santo', 'Sohel', 'Sakib', 'Sakil']\n"
          ]
        }
      ]
    },
    {
      "cell_type": "code",
      "source": [
        "list = ['Sakil','Sakib','Sohel','Santo','Rasu']\n",
        "copylist = list.copy()\n",
        "print(copylist) #copy list"
      ],
      "metadata": {
        "colab": {
          "base_uri": "https://localhost:8080/"
        },
        "id": "s4cgJSnLG_CP",
        "outputId": "d01dceaf-e2c8-47bb-b3e5-d31a21f2adf0"
      },
      "execution_count": null,
      "outputs": [
        {
          "output_type": "stream",
          "name": "stdout",
          "text": [
            "['Sakil', 'Sakib', 'Sohel', 'Santo', 'Rasu']\n"
          ]
        }
      ]
    },
    {
      "cell_type": "code",
      "source": [
        "tuple = ('Sakil','Sakib','Sohel','Santo','Rasu')\n",
        "print(len(tuple))\n",
        "print(type(tuple))"
      ],
      "metadata": {
        "colab": {
          "base_uri": "https://localhost:8080/"
        },
        "id": "7Ou-cJk7L6Ba",
        "outputId": "d435da58-6ef2-435f-d5a7-0c956a32d7a4"
      },
      "execution_count": null,
      "outputs": [
        {
          "output_type": "stream",
          "name": "stdout",
          "text": [
            "5\n",
            "<class 'tuple'>\n"
          ]
        }
      ]
    },
    {
      "cell_type": "code",
      "source": [
        "tuple = ('Sakil','Sakib','Sohel','Santo','Rasu')\n",
        "print(tuple)\n",
        "print(type(tuple))"
      ],
      "metadata": {
        "colab": {
          "base_uri": "https://localhost:8080/"
        },
        "id": "UhJ4iN7WLXA0",
        "outputId": "3b5f9228-b375-4b80-b968-b1677d34ad1d"
      },
      "execution_count": null,
      "outputs": [
        {
          "output_type": "stream",
          "name": "stdout",
          "text": [
            "('Sakil', 'Sakib', 'Sohel', 'Santo', 'Rasu')\n",
            "<class 'tuple'>\n"
          ]
        }
      ]
    }
  ]
}
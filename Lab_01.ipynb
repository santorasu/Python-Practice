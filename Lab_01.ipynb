{
  "nbformat": 4,
  "nbformat_minor": 0,
  "metadata": {
    "colab": {
      "provenance": [],
      "authorship_tag": "ABX9TyOHRESj9MB+InjBvN+pM9+1",
      "include_colab_link": true
    },
    "kernelspec": {
      "name": "python3",
      "display_name": "Python 3"
    },
    "language_info": {
      "name": "python"
    }
  },
  "cells": [
    {
      "cell_type": "markdown",
      "metadata": {
        "id": "view-in-github",
        "colab_type": "text"
      },
      "source": [
        "<a href=\"https://colab.research.google.com/github/santorasu/Python-Practice/blob/master/Untitled01.ipynb\" target=\"_parent\"><img src=\"https://colab.research.google.com/assets/colab-badge.svg\" alt=\"Open In Colab\"/></a>"
      ]
    },
    {
      "cell_type": "code",
      "execution_count": null,
      "metadata": {
        "colab": {
          "base_uri": "https://localhost:8080/"
        },
        "id": "5WS-rqz4vrUb",
        "outputId": "e80966bb-cdde-4e0a-eb88-f1720d41643d"
      },
      "outputs": [
        {
          "output_type": "stream",
          "name": "stdout",
          "text": [
            "Hello Apu\n"
          ]
        }
      ],
      "source": [
        "print(\"Hello Apu\")"
      ]
    },
    {
      "cell_type": "code",
      "source": [
        "a=int(input(\"Enter 1st Number: \"))\n",
        "b=int(input(\"Enter 2nd Number: \"))\n",
        "c=int(input(\"Enter 3rd Number: \"))\n",
        "\n",
        "\n",
        "if(a>b and a>c):\n",
        "  print(a,\" is greater\")\n",
        "elif(b>a and b>c):\n",
        "  print(b,\" is greater\")\n",
        "else:\n",
        "  print(c,\" is greater\")"
      ],
      "metadata": {
        "colab": {
          "base_uri": "https://localhost:8080/"
        },
        "id": "_nxl8HHawIZR",
        "outputId": "6e19e460-e9e7-4a3c-84c4-bcd513bf519e"
      },
      "execution_count": null,
      "outputs": [
        {
          "output_type": "stream",
          "name": "stdout",
          "text": [
            "Enter 1st Number: 5\n",
            "Enter 2nd Number: 3\n",
            "Enter 3rd Number: 6\n",
            "6  is greater\n"
          ]
        }
      ]
    },
    {
      "cell_type": "code",
      "source": [
        "import math\n",
        "\n",
        "a=int(input(\"Enter 1st Number: \"))\n",
        "b=int(input(\"Enter 2nd Number: \"))\n",
        "c=int(input(\"Enter 3rd Number: \"))\n",
        "equation= ((-b)+math.sqrt(abs(b*b-4*a*c)))/2*a\n",
        "equation2= ((-b)-math.sqrt(abs(b*b-4*a*c)))/2*a\n",
        "print(equation)\n",
        "print(equation2)"
      ],
      "metadata": {
        "colab": {
          "base_uri": "https://localhost:8080/"
        },
        "id": "CETQ4rzqyki5",
        "outputId": "2ccb7d4f-b5c0-4aae-db64-d01cc20ac93d"
      },
      "execution_count": null,
      "outputs": [
        {
          "output_type": "stream",
          "name": "stdout",
          "text": [
            "Enter 1st Number: 3\n",
            "Enter 2nd Number: 5\n",
            "Enter 3rd Number: 2\n",
            "-6.0\n",
            "-9.0\n"
          ]
        }
      ]
    },
    {
      "cell_type": "code",
      "source": [
        "max(49,232,3543,564,343)\n",
        "min(237,343,562,3,34,3,454,3,343,434,354,545,454,454,54,23,23,465,6,22,433)\n",
        "# print(max)"
      ],
      "metadata": {
        "colab": {
          "base_uri": "https://localhost:8080/"
        },
        "id": "YpGMOx-H2ywx",
        "outputId": "bc49bb93-48dc-44af-b81c-e4e6d3e7392e"
      },
      "execution_count": null,
      "outputs": [
        {
          "output_type": "stream",
          "name": "stdout",
          "text": [
            "HD\n"
          ]
        },
        {
          "output_type": "execute_result",
          "data": {
            "text/plain": [
              "3"
            ]
          },
          "metadata": {},
          "execution_count": 14
        }
      ]
    },
    {
      "cell_type": "code",
      "source": [
        "a=5**5\n",
        "print(a)"
      ],
      "metadata": {
        "colab": {
          "base_uri": "https://localhost:8080/"
        },
        "id": "S5FvXamb35nJ",
        "outputId": "ecd054a1-8b06-43d4-9eb1-5e7961f7fba3"
      },
      "execution_count": null,
      "outputs": [
        {
          "output_type": "stream",
          "name": "stdout",
          "text": [
            "3125\n"
          ]
        }
      ]
    },
    {
      "cell_type": "code",
      "source": [
        "\n",
        "import statistics as stal\n",
        "int(avg(23,343,544,34))\n"
      ],
      "metadata": {
        "colab": {
          "base_uri": "https://localhost:8080/",
          "height": 183
        },
        "id": "21oK72yD4WJb",
        "outputId": "255e74c4-ac30-42ea-880e-980e42075aeb"
      },
      "execution_count": null,
      "outputs": [
        {
          "output_type": "error",
          "ename": "NameError",
          "evalue": "ignored",
          "traceback": [
            "\u001b[0;31m---------------------------------------------------------------------------\u001b[0m",
            "\u001b[0;31mNameError\u001b[0m                                 Traceback (most recent call last)",
            "\u001b[0;32m<ipython-input-25-5c745a5a23ea>\u001b[0m in \u001b[0;36m<module>\u001b[0;34m\u001b[0m\n\u001b[1;32m      1\u001b[0m \u001b[0;32mimport\u001b[0m \u001b[0mstatistics\u001b[0m \u001b[0;32mas\u001b[0m \u001b[0mstal\u001b[0m\u001b[0;34m\u001b[0m\u001b[0;34m\u001b[0m\u001b[0m\n\u001b[0;32m----> 2\u001b[0;31m \u001b[0mint\u001b[0m\u001b[0;34m(\u001b[0m\u001b[0mavg\u001b[0m\u001b[0;34m(\u001b[0m\u001b[0;36m23\u001b[0m\u001b[0;34m,\u001b[0m\u001b[0;36m343\u001b[0m\u001b[0;34m,\u001b[0m\u001b[0;36m544\u001b[0m\u001b[0;34m,\u001b[0m\u001b[0;36m34\u001b[0m\u001b[0;34m)\u001b[0m\u001b[0;34m)\u001b[0m\u001b[0;34m\u001b[0m\u001b[0;34m\u001b[0m\u001b[0m\n\u001b[0m",
            "\u001b[0;31mNameError\u001b[0m: name 'avg' is not defined"
          ]
        }
      ]
    },
    {
      "cell_type": "code",
      "source": [
        "Str=\"python is awesome\"\n",
        "print(Str.split(\" \"))"
      ],
      "metadata": {
        "colab": {
          "base_uri": "https://localhost:8080/"
        },
        "id": "KD4f9Hlx8VYH",
        "outputId": "f451da03-4fac-4888-dcff-69193e2f57cf"
      },
      "execution_count": null,
      "outputs": [
        {
          "output_type": "stream",
          "name": "stdout",
          "text": [
            "['python', 'is', 'awesome']\n"
          ]
        }
      ]
    },
    {
      "cell_type": "code",
      "source": [
        "a= \"Santo\"\n",
        "b= \" Rasu\"\n",
        "c= a+b\n",
        "print(c)"
      ],
      "metadata": {
        "colab": {
          "base_uri": "https://localhost:8080/"
        },
        "id": "LWZgZ-MU9fmH",
        "outputId": "99d83502-870b-4921-b65f-0feff33f074b"
      },
      "execution_count": null,
      "outputs": [
        {
          "output_type": "stream",
          "name": "stdout",
          "text": [
            "Santo Rasu\n"
          ]
        }
      ]
    },
    {
      "cell_type": "code",
      "source": [
        "par=\"I Love Cat\"\n",
        "a=par.split(' ')\n",
        "p=5\n",
        "for i in range(len(a)):\n",
        "  if a[i]== \"Cat\":\n",
        "    p=p+1\n",
        "\n",
        "print(p)"
      ],
      "metadata": {
        "colab": {
          "base_uri": "https://localhost:8080/"
        },
        "id": "gT6LnnTl-msv",
        "outputId": "2a920516-7d89-4e2e-f150-3241a9d939d5"
      },
      "execution_count": null,
      "outputs": [
        {
          "output_type": "stream",
          "name": "stdout",
          "text": [
            "6\n"
          ]
        }
      ]
    },
    {
      "cell_type": "code",
      "source": [
        "x=\"Why no why tell me why not me\"\n",
        "p= 0\n",
        "for i in range(len(x)):\n",
        "  if x[i] == \"not\" :\n",
        "    p = p+1\n",
        "    \n",
        "print(\"me: \",p)"
      ],
      "metadata": {
        "colab": {
          "base_uri": "https://localhost:8080/"
        },
        "id": "sXnQGG45CKHf",
        "outputId": "ee8a8eba-922f-456d-dd6b-25ecb06189de"
      },
      "execution_count": null,
      "outputs": [
        {
          "output_type": "stream",
          "name": "stdout",
          "text": [
            "me:  0\n"
          ]
        }
      ]
    }
  ]
}

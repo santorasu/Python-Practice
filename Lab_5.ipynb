{
  "nbformat": 4,
  "nbformat_minor": 0,
  "metadata": {
    "colab": {
      "provenance": [],
      "authorship_tag": "ABX9TyPRl5LLhQ+8gBfISFPL3Bst",
      "include_colab_link": true
    },
    "kernelspec": {
      "name": "python3",
      "display_name": "Python 3"
    },
    "language_info": {
      "name": "python"
    }
  },
  "cells": [
    {
      "cell_type": "markdown",
      "metadata": {
        "id": "view-in-github",
        "colab_type": "text"
      },
      "source": [
        "<a href=\"https://colab.research.google.com/github/santorasu/Python-Practice/blob/master/Lab_5.ipynb\" target=\"_parent\"><img src=\"https://colab.research.google.com/assets/colab-badge.svg\" alt=\"Open In Colab\"/></a>"
      ]
    },
    {
      "cell_type": "code",
      "execution_count": null,
      "metadata": {
        "colab": {
          "base_uri": "https://localhost:8080/"
        },
        "id": "uhopf5cyr93r",
        "outputId": "09f5af9b-fa3d-42f8-c938-52dd75ffb118"
      },
      "outputs": [
        {
          "output_type": "stream",
          "name": "stdout",
          "text": [
            "*\n",
            "**\n",
            "***\n",
            "****\n",
            "*****\n"
          ]
        }
      ],
      "source": [
        "n = 5\n",
        "for i in range(1,n+1):\n",
        "  for k in range(1,i+1):\n",
        "    print(\"*\",end=\"\")\n",
        "  print()"
      ]
    },
    {
      "cell_type": "code",
      "source": [
        "n = 5\n",
        "for i in range(1,n+1):\n",
        "  for k in range(n+1-i,0,-1):\n",
        "    print(\"*\",end=\"\")\n",
        "  print()"
      ],
      "metadata": {
        "colab": {
          "base_uri": "https://localhost:8080/"
        },
        "id": "yrlsxsIOtM9w",
        "outputId": "d251e1df-5f50-4fc8-e61a-154703f2e4a1"
      },
      "execution_count": null,
      "outputs": [
        {
          "output_type": "stream",
          "name": "stdout",
          "text": [
            "*****\n",
            "****\n",
            "***\n",
            "**\n",
            "*\n"
          ]
        }
      ]
    },
    {
      "cell_type": "code",
      "source": [
        "n = 5\n",
        "for i in range(n):\n",
        "  for j in range(1,n-i):\n",
        "    print(\" \",end=\"\")\n",
        "  for k in range(0,i+1):\n",
        "    print(\"*\",end=\"\")\n",
        "  print()"
      ],
      "metadata": {
        "colab": {
          "base_uri": "https://localhost:8080/"
        },
        "id": "ywNtysw-vyYG",
        "outputId": "ef6164f4-f955-425d-f0b5-b7c0b569994b"
      },
      "execution_count": null,
      "outputs": [
        {
          "output_type": "stream",
          "name": "stdout",
          "text": [
            "    *\n",
            "   **\n",
            "  ***\n",
            " ****\n",
            "*****\n"
          ]
        }
      ]
    },
    {
      "cell_type": "code",
      "source": [
        "n = 5\n",
        "for i in range(1,n+1): \n",
        "  for j in range(n-i):\n",
        "    print(\" \",end=\"\")\n",
        "  for k in range(2*i-1):\n",
        "    print(\"*\",end=\"\")\n",
        "  print()"
      ],
      "metadata": {
        "colab": {
          "base_uri": "https://localhost:8080/"
        },
        "id": "7mWGM8E_yfVC",
        "outputId": "06e83543-e79a-417c-ccbd-ba055e2716d7"
      },
      "execution_count": null,
      "outputs": [
        {
          "output_type": "stream",
          "name": "stdout",
          "text": [
            "    *\n",
            "   ***\n",
            "  *****\n",
            " *******\n",
            "*********\n"
          ]
        }
      ]
    },
    {
      "cell_type": "code",
      "source": [
        "#Set \n",
        "\n",
        "thisset = {\"Apple\",\"Banna\",\"Cherry\"}\n",
        "print(thisset)\n",
        "\n",
        "thisset = {\"Apple\",\"Banna\",\"Cherry\",45,656,True}\n",
        "print(thisset)"
      ],
      "metadata": {
        "colab": {
          "base_uri": "https://localhost:8080/"
        },
        "id": "OSQs-i3c0DXg",
        "outputId": "928e17c8-4905-4f1b-ffda-bed5c6c74594"
      },
      "execution_count": null,
      "outputs": [
        {
          "output_type": "stream",
          "name": "stdout",
          "text": [
            "{'Cherry', 'Banna', 'Apple'}\n",
            "{True, 'Banna', 45, 656, 'Apple', 'Cherry'}\n"
          ]
        }
      ]
    },
    {
      "cell_type": "code",
      "source": [
        "thisset = {\"Apple\",\"Banna\",\"Cherry\"}\n",
        "for x in thisset:\n",
        "  print(x)"
      ],
      "metadata": {
        "colab": {
          "base_uri": "https://localhost:8080/"
        },
        "id": "sa-7d44S6I1P",
        "outputId": "34a49508-d6d4-4904-b0f2-a981288c44d6"
      },
      "execution_count": null,
      "outputs": [
        {
          "output_type": "stream",
          "name": "stdout",
          "text": [
            "Cherry\n",
            "Banna\n",
            "Apple\n"
          ]
        }
      ]
    },
    {
      "cell_type": "code",
      "source": [
        "thisset = {\"Apple\",\"Banna\",\"Cherry\"}\n",
        "thisset.add(\"Orange\")\n",
        "print(thisset)"
      ],
      "metadata": {
        "colab": {
          "base_uri": "https://localhost:8080/"
        },
        "id": "67vy2M5Z7B-4",
        "outputId": "b7c3c210-9214-4369-9aae-047ad137c1bc"
      },
      "execution_count": null,
      "outputs": [
        {
          "output_type": "stream",
          "name": "stdout",
          "text": [
            "{'Cherry', 'Banna', 'Apple', 'Orange'}\n"
          ]
        }
      ]
    },
    {
      "cell_type": "code",
      "source": [
        " a = input()\n",
        " p = set()\n",
        " p.add(a)\n",
        " print(p);\n"
      ],
      "metadata": {
        "colab": {
          "base_uri": "https://localhost:8080/"
        },
        "id": "Og18mSjG2CBY",
        "outputId": "71bdab7c-2b83-4407-fa66-7fa88989c7f5"
      },
      "execution_count": null,
      "outputs": [
        {
          "output_type": "stream",
          "name": "stdout",
          "text": [
            "Hii\n",
            "{'Hii'}\n"
          ]
        }
      ]
    },
    {
      "cell_type": "code",
      "source": [
        "set1= {'Cherry', 'Banna', 'Apple', 'Orange'}\n",
        "set2 = {\"Santo\",\"Rasu\",\"Farhan\",\"Dipu\"}\n",
        "\n",
        "Update = set1 + set2  #amr vhul hoye geche..... khoma kore den\n",
        "print(Update)"
      ],
      "metadata": {
        "colab": {
          "base_uri": "https://localhost:8080/",
          "height": 217
        },
        "id": "5fdZsTco7Wg-",
        "outputId": "d79f0a5e-31fc-4e4c-c9c2-19e3aeda9b9a"
      },
      "execution_count": null,
      "outputs": [
        {
          "output_type": "error",
          "ename": "TypeError",
          "evalue": "ignored",
          "traceback": [
            "\u001b[0;31m---------------------------------------------------------------------------\u001b[0m",
            "\u001b[0;31mTypeError\u001b[0m                                 Traceback (most recent call last)",
            "\u001b[0;32m<ipython-input-23-26f1e5a6b7c5>\u001b[0m in \u001b[0;36m<module>\u001b[0;34m\u001b[0m\n\u001b[1;32m      2\u001b[0m \u001b[0mset2\u001b[0m \u001b[0;34m=\u001b[0m \u001b[0;34m{\u001b[0m\u001b[0;34m\"Santo\"\u001b[0m\u001b[0;34m,\u001b[0m\u001b[0;34m\"Rasu\"\u001b[0m\u001b[0;34m,\u001b[0m\u001b[0;34m\"Farhan\"\u001b[0m\u001b[0;34m,\u001b[0m\u001b[0;34m\"Dipu\"\u001b[0m\u001b[0;34m}\u001b[0m\u001b[0;34m\u001b[0m\u001b[0;34m\u001b[0m\u001b[0m\n\u001b[1;32m      3\u001b[0m \u001b[0;34m\u001b[0m\u001b[0m\n\u001b[0;32m----> 4\u001b[0;31m \u001b[0mUpdate\u001b[0m \u001b[0;34m=\u001b[0m \u001b[0mset1\u001b[0m \u001b[0;34m+\u001b[0m \u001b[0mset2\u001b[0m\u001b[0;34m\u001b[0m\u001b[0;34m\u001b[0m\u001b[0m\n\u001b[0m\u001b[1;32m      5\u001b[0m \u001b[0mprint\u001b[0m\u001b[0;34m(\u001b[0m\u001b[0mUpdate\u001b[0m\u001b[0;34m)\u001b[0m\u001b[0;34m\u001b[0m\u001b[0;34m\u001b[0m\u001b[0m\n",
            "\u001b[0;31mTypeError\u001b[0m: unsupported operand type(s) for +: 'set' and 'set'"
          ]
        }
      ]
    },
    {
      "cell_type": "code",
      "source": [
        "thisdict = {\n",
        "    \"brand\": \"Food\",\n",
        "    \"model\": \"Mustang\",\n",
        "    \"year\": 1999\n",
        "}\n",
        "\n",
        "print(thisdict)"
      ],
      "metadata": {
        "id": "cvrFqSIj8IW4",
        "colab": {
          "base_uri": "https://localhost:8080/"
        },
        "outputId": "432d3dab-779a-4d0b-bc9f-da8ca5551be5"
      },
      "execution_count": null,
      "outputs": [
        {
          "output_type": "stream",
          "name": "stdout",
          "text": [
            "{'brand': 'Food', 'model': 'Mustang', 'year': 1999}\n"
          ]
        }
      ]
    },
    {
      "cell_type": "code",
      "source": [
        "thisdict = {\n",
        "    \"brand\": \"Food\",\n",
        "    \"model\": \"Mustang\",\n",
        "    \"year\": 1999\n",
        "}\n",
        "\n",
        "print(thisdict[\"brand\"])"
      ],
      "metadata": {
        "colab": {
          "base_uri": "https://localhost:8080/"
        },
        "id": "rUqTwlug-w8I",
        "outputId": "6ec7ee36-072a-4856-f519-acb7b2c70196"
      },
      "execution_count": null,
      "outputs": [
        {
          "output_type": "stream",
          "name": "stdout",
          "text": [
            "Food\n"
          ]
        }
      ]
    },
    {
      "cell_type": "code",
      "source": [
        "thisdict = {\n",
        "    \"brand\": \"Food\",\n",
        "    \"model\": \"Mustang\",\n",
        "    \"year\": 1999\n",
        "}\n",
        "for i in thisdict:\n",
        "  print(thisdict[i])"
      ],
      "metadata": {
        "colab": {
          "base_uri": "https://localhost:8080/"
        },
        "id": "3cs6BH7m_Kg3",
        "outputId": "81fbdd3f-6ae9-43e8-becc-9663e1e58638"
      },
      "execution_count": null,
      "outputs": [
        {
          "output_type": "stream",
          "name": "stdout",
          "text": [
            "Food\n",
            "Mustang\n",
            "1999\n"
          ]
        }
      ]
    },
    {
      "cell_type": "code",
      "source": [
        "my ={\n",
        "    \"c1\" : {\n",
        "        \"nm\": \"Rasu\",\n",
        "        \"age\": 21\n",
        "    },\n",
        "     \"c2\" : {\n",
        "        \"nm\": \"Santo\",\n",
        "        \"age\": 22\n",
        "    },\n",
        "     \"c3\" : {\n",
        "        \"nm\": \"AriYan\",\n",
        "        \"age\": 20\n",
        "    }\n",
        "}\n",
        "\n",
        "print(my)\n",
        "print(my['c1'])\n",
        "print(my['c2'])\n",
        "print(my['c3'])\n",
        "print(my[c1].\"mn\")"
      ],
      "metadata": {
        "colab": {
          "base_uri": "https://localhost:8080/",
          "height": 130
        },
        "id": "wsE2KzkL_3nY",
        "outputId": "ce239010-88da-4ed1-c69e-d64dcd869d64"
      },
      "execution_count": null,
      "outputs": [
        {
          "output_type": "error",
          "ename": "SyntaxError",
          "evalue": "ignored",
          "traceback": [
            "\u001b[0;36m  File \u001b[0;32m\"<ipython-input-33-7fa6963c9051>\"\u001b[0;36m, line \u001b[0;32m20\u001b[0m\n\u001b[0;31m    print(my[c1].\"mn\")\u001b[0m\n\u001b[0m                 ^\u001b[0m\n\u001b[0;31mSyntaxError\u001b[0m\u001b[0;31m:\u001b[0m invalid syntax\n"
          ]
        }
      ]
    }
  ]
}